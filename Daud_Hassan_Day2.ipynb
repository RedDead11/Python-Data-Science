{
 "cells": [
  {
   "cell_type": "markdown",
   "id": "a2bcd3de",
   "metadata": {},
   "source": [
    "# Building a linear regression model to predict housing prices based on a given dataset. "
   ]
  },
  {
   "cell_type": "code",
   "execution_count": 122,
   "id": "a3896060",
   "metadata": {},
   "outputs": [],
   "source": [
    "import pandas as pd\n",
    "import numpy as np\n",
    "\n",
    "from matplotlib import pyplot as plt \n",
    "%matplotlib inline\n",
    "import seaborn as sns\n",
    "from sklearn.model_selection import train_test_split\n",
    "\n",
    "\n",
    "from sklearn.metrics import r2_score"
   ]
  },
  {
   "cell_type": "markdown",
   "id": "cccc771a",
   "metadata": {},
   "source": [
    "## Step 1: Load and explore the dataset, including visualizing the features and target variable."
   ]
  },
  {
   "cell_type": "code",
   "execution_count": 106,
   "id": "2aaac2ec",
   "metadata": {},
   "outputs": [],
   "source": [
    "df = pd.read_csv(\"train.csv\")"
   ]
  },
  {
   "cell_type": "code",
   "execution_count": 23,
   "id": "79650044",
   "metadata": {},
   "outputs": [
    {
     "data": {
      "text/html": [
       "<div>\n",
       "<style scoped>\n",
       "    .dataframe tbody tr th:only-of-type {\n",
       "        vertical-align: middle;\n",
       "    }\n",
       "\n",
       "    .dataframe tbody tr th {\n",
       "        vertical-align: top;\n",
       "    }\n",
       "\n",
       "    .dataframe thead th {\n",
       "        text-align: right;\n",
       "    }\n",
       "</style>\n",
       "<table border=\"1\" class=\"dataframe\">\n",
       "  <thead>\n",
       "    <tr style=\"text-align: right;\">\n",
       "      <th></th>\n",
       "      <th>ID</th>\n",
       "      <th>crim</th>\n",
       "      <th>zn</th>\n",
       "      <th>indus</th>\n",
       "      <th>chas</th>\n",
       "      <th>nox</th>\n",
       "      <th>rm</th>\n",
       "      <th>age</th>\n",
       "      <th>dis</th>\n",
       "      <th>rad</th>\n",
       "      <th>tax</th>\n",
       "      <th>ptratio</th>\n",
       "      <th>black</th>\n",
       "      <th>lstat</th>\n",
       "      <th>medv</th>\n",
       "    </tr>\n",
       "  </thead>\n",
       "  <tbody>\n",
       "    <tr>\n",
       "      <th>0</th>\n",
       "      <td>1</td>\n",
       "      <td>0.00632</td>\n",
       "      <td>18.0</td>\n",
       "      <td>2.31</td>\n",
       "      <td>0</td>\n",
       "      <td>0.538</td>\n",
       "      <td>6.575</td>\n",
       "      <td>65.2</td>\n",
       "      <td>4.0900</td>\n",
       "      <td>1</td>\n",
       "      <td>296</td>\n",
       "      <td>15.3</td>\n",
       "      <td>396.90</td>\n",
       "      <td>4.98</td>\n",
       "      <td>24.0</td>\n",
       "    </tr>\n",
       "    <tr>\n",
       "      <th>1</th>\n",
       "      <td>2</td>\n",
       "      <td>0.02731</td>\n",
       "      <td>0.0</td>\n",
       "      <td>7.07</td>\n",
       "      <td>0</td>\n",
       "      <td>0.469</td>\n",
       "      <td>6.421</td>\n",
       "      <td>78.9</td>\n",
       "      <td>4.9671</td>\n",
       "      <td>2</td>\n",
       "      <td>242</td>\n",
       "      <td>17.8</td>\n",
       "      <td>396.90</td>\n",
       "      <td>9.14</td>\n",
       "      <td>21.6</td>\n",
       "    </tr>\n",
       "    <tr>\n",
       "      <th>2</th>\n",
       "      <td>4</td>\n",
       "      <td>0.03237</td>\n",
       "      <td>0.0</td>\n",
       "      <td>2.18</td>\n",
       "      <td>0</td>\n",
       "      <td>0.458</td>\n",
       "      <td>6.998</td>\n",
       "      <td>45.8</td>\n",
       "      <td>6.0622</td>\n",
       "      <td>3</td>\n",
       "      <td>222</td>\n",
       "      <td>18.7</td>\n",
       "      <td>394.63</td>\n",
       "      <td>2.94</td>\n",
       "      <td>33.4</td>\n",
       "    </tr>\n",
       "    <tr>\n",
       "      <th>3</th>\n",
       "      <td>5</td>\n",
       "      <td>0.06905</td>\n",
       "      <td>0.0</td>\n",
       "      <td>2.18</td>\n",
       "      <td>0</td>\n",
       "      <td>0.458</td>\n",
       "      <td>7.147</td>\n",
       "      <td>54.2</td>\n",
       "      <td>6.0622</td>\n",
       "      <td>3</td>\n",
       "      <td>222</td>\n",
       "      <td>18.7</td>\n",
       "      <td>396.90</td>\n",
       "      <td>5.33</td>\n",
       "      <td>36.2</td>\n",
       "    </tr>\n",
       "    <tr>\n",
       "      <th>4</th>\n",
       "      <td>7</td>\n",
       "      <td>0.08829</td>\n",
       "      <td>12.5</td>\n",
       "      <td>7.87</td>\n",
       "      <td>0</td>\n",
       "      <td>0.524</td>\n",
       "      <td>6.012</td>\n",
       "      <td>66.6</td>\n",
       "      <td>5.5605</td>\n",
       "      <td>5</td>\n",
       "      <td>311</td>\n",
       "      <td>15.2</td>\n",
       "      <td>395.60</td>\n",
       "      <td>12.43</td>\n",
       "      <td>22.9</td>\n",
       "    </tr>\n",
       "  </tbody>\n",
       "</table>\n",
       "</div>"
      ],
      "text/plain": [
       "   ID     crim    zn  indus  chas    nox     rm   age     dis  rad  tax  \\\n",
       "0   1  0.00632  18.0   2.31     0  0.538  6.575  65.2  4.0900    1  296   \n",
       "1   2  0.02731   0.0   7.07     0  0.469  6.421  78.9  4.9671    2  242   \n",
       "2   4  0.03237   0.0   2.18     0  0.458  6.998  45.8  6.0622    3  222   \n",
       "3   5  0.06905   0.0   2.18     0  0.458  7.147  54.2  6.0622    3  222   \n",
       "4   7  0.08829  12.5   7.87     0  0.524  6.012  66.6  5.5605    5  311   \n",
       "\n",
       "   ptratio   black  lstat  medv  \n",
       "0     15.3  396.90   4.98  24.0  \n",
       "1     17.8  396.90   9.14  21.6  \n",
       "2     18.7  394.63   2.94  33.4  \n",
       "3     18.7  396.90   5.33  36.2  \n",
       "4     15.2  395.60  12.43  22.9  "
      ]
     },
     "execution_count": 23,
     "metadata": {},
     "output_type": "execute_result"
    }
   ],
   "source": [
    "df.head()"
   ]
  },
  {
   "cell_type": "code",
   "execution_count": 24,
   "id": "d3525935",
   "metadata": {},
   "outputs": [
    {
     "name": "stdout",
     "output_type": "stream",
     "text": [
      "<class 'pandas.core.frame.DataFrame'>\n",
      "RangeIndex: 333 entries, 0 to 332\n",
      "Data columns (total 15 columns):\n",
      " #   Column   Non-Null Count  Dtype  \n",
      "---  ------   --------------  -----  \n",
      " 0   ID       333 non-null    int64  \n",
      " 1   crim     333 non-null    float64\n",
      " 2   zn       333 non-null    float64\n",
      " 3   indus    333 non-null    float64\n",
      " 4   chas     333 non-null    int64  \n",
      " 5   nox      333 non-null    float64\n",
      " 6   rm       333 non-null    float64\n",
      " 7   age      333 non-null    float64\n",
      " 8   dis      333 non-null    float64\n",
      " 9   rad      333 non-null    int64  \n",
      " 10  tax      333 non-null    int64  \n",
      " 11  ptratio  333 non-null    float64\n",
      " 12  black    333 non-null    float64\n",
      " 13  lstat    333 non-null    float64\n",
      " 14  medv     333 non-null    float64\n",
      "dtypes: float64(11), int64(4)\n",
      "memory usage: 39.1 KB\n",
      "None\n"
     ]
    }
   ],
   "source": [
    "# Get information about the data types and missing values in the dataset\n",
    "\n",
    "print(df.info())"
   ]
  },
  {
   "cell_type": "code",
   "execution_count": 25,
   "id": "0fc632b8",
   "metadata": {},
   "outputs": [
    {
     "name": "stdout",
     "output_type": "stream",
     "text": [
      "               ID        crim          zn       indus        chas         nox  \\\n",
      "count  333.000000  333.000000  333.000000  333.000000  333.000000  333.000000   \n",
      "mean   250.951952    3.360341   10.689189   11.293483    0.060060    0.557144   \n",
      "std    147.859438    7.352272   22.674762    6.998123    0.237956    0.114955   \n",
      "min      1.000000    0.006320    0.000000    0.740000    0.000000    0.385000   \n",
      "25%    123.000000    0.078960    0.000000    5.130000    0.000000    0.453000   \n",
      "50%    244.000000    0.261690    0.000000    9.900000    0.000000    0.538000   \n",
      "75%    377.000000    3.678220   12.500000   18.100000    0.000000    0.631000   \n",
      "max    506.000000   73.534100  100.000000   27.740000    1.000000    0.871000   \n",
      "\n",
      "               rm         age         dis         rad         tax     ptratio  \\\n",
      "count  333.000000  333.000000  333.000000  333.000000  333.000000  333.000000   \n",
      "mean     6.265619   68.226426    3.709934    9.633634  409.279279   18.448048   \n",
      "std      0.703952   28.133344    1.981123    8.742174  170.841988    2.151821   \n",
      "min      3.561000    6.000000    1.129600    1.000000  188.000000   12.600000   \n",
      "25%      5.884000   45.400000    2.122400    4.000000  279.000000   17.400000   \n",
      "50%      6.202000   76.700000    3.092300    5.000000  330.000000   19.000000   \n",
      "75%      6.595000   93.800000    5.116700   24.000000  666.000000   20.200000   \n",
      "max      8.725000  100.000000   10.710300   24.000000  711.000000   21.200000   \n",
      "\n",
      "            black       lstat        medv  \n",
      "count  333.000000  333.000000  333.000000  \n",
      "mean   359.466096   12.515435   22.768769  \n",
      "std     86.584567    7.067781    9.173468  \n",
      "min      3.500000    1.730000    5.000000  \n",
      "25%    376.730000    7.180000   17.400000  \n",
      "50%    392.050000   10.970000   21.600000  \n",
      "75%    396.240000   16.420000   25.000000  \n",
      "max    396.900000   37.970000   50.000000  \n"
     ]
    }
   ],
   "source": [
    "# Get statistical data like count, mean, min, max and more about the dataset\n",
    "\n",
    "print(df.describe())"
   ]
  },
  {
   "cell_type": "code",
   "execution_count": 97,
   "id": "b4485b8b",
   "metadata": {},
   "outputs": [
    {
     "data": {
      "image/png": "[encoded data removed]",
      "text/plain": [
       "<Figure size 432x288 with 16 Axes>"
      ]
     },
     "metadata": {
      "needs_background": "light"
     },
     "output_type": "display_data"
    }
   ],
   "source": [
    "df.hist()\n",
    "plt.show()"
   ]
  },
  {
   "cell_type": "markdown",
   "id": "3db5e48e",
   "metadata": {},
   "source": [
    "### medv is our target variable"
   ]
  },
  {
   "cell_type": "code",
   "execution_count": 26,
   "id": "8bc4755f",
   "metadata": {},
   "outputs": [],
   "source": [
    "# medv --> is the median value of owner-occupied homes in \\$1000s.\n",
    "\n",
    "# rm ----> represents the average number of rooms in each home in a given neighborhood.\n",
    "\n",
    "#There may be some relationship between rm and medv, \n",
    "\n",
    "# neighborhoods with larger and more spacious homes (higher rm values) are more expensive (higher medv values)\n",
    "\n",
    "# SO, we should see a direct relation between rm and medv"
   ]
  },
  {
   "cell_type": "code",
   "execution_count": 29,
   "id": "88a53a0f",
   "metadata": {},
   "outputs": [
    {
     "data": {
      "image/png": "[encoded data removed]",
      "text/plain": [
       "<Figure size 432x288 with 1 Axes>"
      ]
     },
     "metadata": {
      "needs_background": "light"
     },
     "output_type": "display_data"
    }
   ],
   "source": [
    "# Create a scatterplot of the 'rm' and 'medv' variables\n",
    "\n",
    "plt.scatter(df['rm'], df['medv'])\n",
    "plt.xlabel('Average number of rooms per dwelling')\n",
    "plt.ylabel('Median value of owner-occupied homes (in $1000s)')\n",
    "\n",
    "plt.show()\n",
    "\n",
    "\n",
    "# Creating a scatterplot with the rm variable on the x-axis and the medv variable on the y-axis\n",
    "# to see if there is a positive correlation between the number of rooms and the house price."
   ]
  },
  {
   "cell_type": "code",
   "execution_count": 30,
   "id": "7aaaf27a",
   "metadata": {},
   "outputs": [
    {
     "data": {
      "image/png": "[encoded data removed]",
      "text/plain": [
       "<Figure size 432x288 with 1 Axes>"
      ]
     },
     "metadata": {
      "needs_background": "light"
     },
     "output_type": "display_data"
    }
   ],
   "source": [
    "#Creating a scatter plot of rm vs medv using the regplot function from Seaborn. \n",
    "\n",
    "sns.regplot(x='rm', y='medv', data=df)\n",
    "plt.xlabel('Average number of rooms per dwelling')\n",
    "plt.ylabel('Median value of owner-occupied homes (in $1000s)')\n",
    "\n",
    "plt.show()"
   ]
  },
  {
   "cell_type": "markdown",
   "id": "f93b8dda",
   "metadata": {},
   "source": [
    "### Example 2:"
   ]
  },
  {
   "cell_type": "code",
   "execution_count": 35,
   "id": "a520f91d",
   "metadata": {},
   "outputs": [
    {
     "data": {
      "image/png": "[encoded data removed]",
      "text/plain": [
       "<Figure size 432x288 with 1 Axes>"
      ]
     },
     "metadata": {
      "needs_background": "light"
     },
     "output_type": "display_data"
    }
   ],
   "source": [
    "# Create a scatter plot of 'age' vs 'medv' with a linear regression line\n",
    "sns.regplot(x='medv', y='age', data=df)\n",
    "plt.xlabel('Median value of owner-occupied homes (in $1000s)')\n",
    "plt.ylabel('Proportion of owner-occupied units built prior to 1940')\n",
    "plt.show()\n",
    "\n",
    "\n",
    "# this scatter plot shows that the more age a house has the lower the price in most cases and vice versa."
   ]
  },
  {
   "cell_type": "markdown",
   "id": "4d5cf074",
   "metadata": {},
   "source": [
    "### Example 3:"
   ]
  },
  {
   "cell_type": "code",
   "execution_count": null,
   "id": "f24fe83c",
   "metadata": {},
   "outputs": [],
   "source": [
    "sns.regplot(x='crim', y='medv', data=df)\n",
    "plt.xlabel('Crime')\n",
    "plt.ylabel('medv')\n",
    "\n",
    "plt.show()\n"
   ]
  },
  {
   "cell_type": "markdown",
   "id": "1cfab46b",
   "metadata": {},
   "source": [
    "## Step 2: Split the dataset into training and testing sets."
   ]
  },
  {
   "cell_type": "code",
   "execution_count": 31,
   "id": "90a934fc",
   "metadata": {},
   "outputs": [],
   "source": [
    "# To avoid overfitiing we usually split the dataset into training and testing sets\n",
    "\n",
    "# We use the training set totrain the model\n",
    "# we use the testing set is used to evaluate the model's performance on some random data.\n",
    "\n"
   ]
  },
  {
   "cell_type": "code",
   "execution_count": 48,
   "id": "bf9b7a7a",
   "metadata": {},
   "outputs": [],
   "source": [
    "X = df[['age']]\n",
    "y = df['medv']"
   ]
  },
  {
   "cell_type": "code",
   "execution_count": 46,
   "id": "768b25ac",
   "metadata": {},
   "outputs": [],
   "source": [
    "from sklearn.model_selection import train_test_split"
   ]
  },
  {
   "cell_type": "markdown",
   "id": "909cc99c",
   "metadata": {},
   "source": [
    "### Setting size of training dataset = 80% and the size of testing dataset = 20%"
   ]
  },
  {
   "cell_type": "code",
   "execution_count": 129,
   "id": "07a018fb",
   "metadata": {},
   "outputs": [],
   "source": [
    "X_train, X_test, y_train, y_test = train_test_split(X, y, test_size = 0.2)"
   ]
  },
  {
   "cell_type": "markdown",
   "id": "d079004c",
   "metadata": {},
   "source": [
    "#### Confirming that we got the right proportion"
   ]
  },
  {
   "cell_type": "code",
   "execution_count": 71,
   "id": "26c55aab",
   "metadata": {},
   "outputs": [
    {
     "name": "stdout",
     "output_type": "stream",
     "text": [
      "Size of X = 333\n",
      "\n",
      "Size of X Training Dataset = 266\n",
      "\n",
      "Size of X Testing Dataset = 67\n",
      "\n",
      "20% of Total Dataset X = 67, and 80% of dataset is used for Training\n"
     ]
    }
   ],
   "source": [
    "# Testing for both X and Y\n",
    "\n",
    "print( \"Size of X = \" + str(len(X)) )\n",
    "\n",
    "print( \"\\nSize of X Training Dataset = \" + str(len(X_train)))\n",
    "\n",
    "print( \"\\nSize of X Testing Dataset = \"  + str(len(X_test)))\n",
    "\n",
    "print(\"\\n20% of Total Dataset X = 67, and 80% of dataset is used for Training\")  "
   ]
  },
  {
   "cell_type": "markdown",
   "id": "62918484",
   "metadata": {},
   "source": [
    "## Step 3: Preprocess the data by handling missing values and performing feature scaling."
   ]
  },
  {
   "cell_type": "code",
   "execution_count": 109,
   "id": "20862141",
   "metadata": {},
   "outputs": [
    {
     "name": "stdout",
     "output_type": "stream",
     "text": [
      "ID         0\n",
      "crim       0\n",
      "zn         0\n",
      "indus      0\n",
      "chas       0\n",
      "nox        0\n",
      "rm         0\n",
      "age        0\n",
      "dis        0\n",
      "rad        0\n",
      "tax        0\n",
      "ptratio    0\n",
      "black      0\n",
      "lstat      0\n",
      "medv       0\n",
      "dtype: int64\n"
     ]
    }
   ],
   "source": [
    "# Checking for missing values:\n",
    "\n",
    "check_null = df.isnull().sum()\n",
    "print(check_null)"
   ]
  },
  {
   "cell_type": "code",
   "execution_count": 81,
   "id": "1fd1eddd",
   "metadata": {},
   "outputs": [],
   "source": [
    "# PERFORMING FEATURE SCALING "
   ]
  },
  {
   "cell_type": "code",
   "execution_count": 111,
   "id": "bfbaa2d2",
   "metadata": {},
   "outputs": [],
   "source": [
    "#from sklearn.impute import SimpleImputer\n",
    "from sklearn.preprocessing import StandardScaler"
   ]
  },
  {
   "cell_type": "code",
   "execution_count": 113,
   "id": "028681f5",
   "metadata": {},
   "outputs": [
    {
     "data": {
      "text/plain": [
       "array([[ 0.89403734],\n",
       "       [ 0.49269107],\n",
       "       [ 0.60116304],\n",
       "       [-0.09667326],\n",
       "       [-0.21237668],\n",
       "       [-0.91021298],\n",
       "       [-0.06051594],\n",
       "       [ 0.98804637],\n",
       "       [ 0.55054279],\n",
       "       [-1.02953214],\n",
       "       [-0.84151407],\n",
       "       [ 0.36252472],\n",
       "       [ 1.02420369],\n",
       "       [-0.35339024],\n",
       "       [-1.09823105],\n",
       "       [ 0.95912051],\n",
       "       [-1.85753479],\n",
       "       [-0.44739927],\n",
       "       [ 0.8108755 ],\n",
       "       [ 1.01697223],\n",
       "       [ 0.19981677],\n",
       "       [ 0.82172269],\n",
       "       [-1.28986485],\n",
       "       [ 1.05674528],\n",
       "       [ 1.10013406],\n",
       "       [ 0.82895416],\n",
       "       [-0.15090924],\n",
       "       [ 0.53607986],\n",
       "       [-1.8249932 ],\n",
       "       [-0.38954756],\n",
       "       [ 1.12544419],\n",
       "       [ 0.52161693],\n",
       "       [ 1.04951382],\n",
       "       [-0.5522555 ],\n",
       "       [ 1.12544419],\n",
       "       [ 0.28297861],\n",
       "       [ 1.02058796],\n",
       "       [ 1.12544419],\n",
       "       [ 1.03143515],\n",
       "       [ 0.80725976],\n",
       "       [ 1.01335649],\n",
       "       [ 0.83256989],\n",
       "       [ 0.63008889],\n",
       "       [-2.02024273],\n",
       "       [ 1.12544419],\n",
       "       [-0.58118136],\n",
       "       [ 1.12544419],\n",
       "       [ 0.20343251],\n",
       "       [-2.13233043],\n",
       "       [ 0.90488453],\n",
       "       [ 0.02626163],\n",
       "       [-1.15969849],\n",
       "       [-0.21960815],\n",
       "       [-1.84668759],\n",
       "       [ 1.06036101],\n",
       "       [-1.71652124],\n",
       "       [ 1.06759248],\n",
       "       [-0.74750503],\n",
       "       [ 0.74579232],\n",
       "       [ 0.82533843],\n",
       "       [ 0.63732036],\n",
       "       [ 0.77833391],\n",
       "       [-0.80174102],\n",
       "       [-1.32240644],\n",
       "       [-0.43655207],\n",
       "       [-0.59926002],\n",
       "       [ 0.31913593],\n",
       "       [-0.33892731],\n",
       "       [-1.41641547],\n",
       "       [ 1.0820554 ],\n",
       "       [-1.04037933],\n",
       "       [-1.35133229],\n",
       "       [ 0.81449123],\n",
       "       [-0.64626454],\n",
       "       [-1.59358634],\n",
       "       [ 0.98081491],\n",
       "       [-0.71496345],\n",
       "       [-1.43449413],\n",
       "       [-1.02591641],\n",
       "       [-2.13594616],\n",
       "       [ 0.05518749],\n",
       "       [ 1.12544419],\n",
       "       [ 0.44930229],\n",
       "       [ 1.07120821],\n",
       "       [ 0.69155634],\n",
       "       [ 1.04951382],\n",
       "       [ 0.63732036],\n",
       "       [ 0.96996771],\n",
       "       [-0.69326905],\n",
       "       [ 0.88680587],\n",
       "       [ 0.73494512],\n",
       "       [ 0.76387098],\n",
       "       [ 0.43122363],\n",
       "       [-1.08376812],\n",
       "       [-1.7129055 ],\n",
       "       [ 0.16727518],\n",
       "       [ 1.01697223],\n",
       "       [ 1.12544419],\n",
       "       [-1.90092357],\n",
       "       [ 0.72048219],\n",
       "       [-2.25164958],\n",
       "       [ 0.94104185],\n",
       "       [-0.02797435],\n",
       "       [ 0.79279684],\n",
       "       [ 0.86149575],\n",
       "       [ 0.39506631],\n",
       "       [-0.46547793],\n",
       "       [-0.24130254],\n",
       "       [ 0.9012688 ],\n",
       "       [ 1.08567114],\n",
       "       [ 0.2142797 ],\n",
       "       [-1.64420659],\n",
       "       [-1.19947155],\n",
       "       [-0.8342826 ],\n",
       "       [ 0.912116  ],\n",
       "       [ 1.12544419],\n",
       "       [ 1.12544419],\n",
       "       [ 0.93742612],\n",
       "       [ 0.86872721],\n",
       "       [ 1.12544419],\n",
       "       [ 0.88319014],\n",
       "       [ 0.71325073],\n",
       "       [-1.08015239],\n",
       "       [-0.33169584],\n",
       "       [-1.16692996],\n",
       "       [-0.37870036],\n",
       "       [-1.82137747],\n",
       "       [ 1.12544419],\n",
       "       [ 0.15281226],\n",
       "       [ 1.12544419],\n",
       "       [ 0.10219201],\n",
       "       [ 0.91934746],\n",
       "       [-0.76919943],\n",
       "       [ 0.49630681],\n",
       "       [-0.70773198],\n",
       "       [-2.27334398],\n",
       "       [ 0.49269107],\n",
       "       [ 1.12544419],\n",
       "       [-0.59202855],\n",
       "       [ 0.56862145],\n",
       "       [ 1.12544419],\n",
       "       [ 0.06241895],\n",
       "       [ 0.84341709],\n",
       "       [-2.2082608 ],\n",
       "       [ 0.68794061],\n",
       "       [-0.58841282],\n",
       "       [ 0.8904216 ],\n",
       "       [ 1.02781942],\n",
       "       [-1.14523556],\n",
       "       [ 0.46014948],\n",
       "       [-0.10028899],\n",
       "       [-1.73821563],\n",
       "       [ 1.06759248],\n",
       "       [-0.08221033],\n",
       "       [ 1.12544419],\n",
       "       [ 0.13111786],\n",
       "       [ 0.34083033],\n",
       "       [ 0.22151117],\n",
       "       [-0.86320846],\n",
       "       [-0.83789834],\n",
       "       [-0.53056111],\n",
       "       [-1.95877529],\n",
       "       [ 0.02987737],\n",
       "       [ 0.98804637],\n",
       "       [-1.33686937],\n",
       "       [-1.68397965],\n",
       "       [ 0.43122363],\n",
       "       [-1.24286033],\n",
       "       [ 0.95912051],\n",
       "       [-1.30071204],\n",
       "       [-0.92106018],\n",
       "       [ 0.95188905],\n",
       "       [ 1.0025093 ],\n",
       "       [ 1.0820554 ],\n",
       "       [-0.81620394],\n",
       "       [ 1.05312955],\n",
       "       [ 0.68794061],\n",
       "       [ 0.41314497],\n",
       "       [-0.12559911],\n",
       "       [-0.97529616],\n",
       "       [-0.52694538],\n",
       "       [ 0.90850026],\n",
       "       [-1.70205831],\n",
       "       [-1.00422201],\n",
       "       [ 0.57223718],\n",
       "       [-1.16692996],\n",
       "       [-0.20876095],\n",
       "       [ 1.0025093 ],\n",
       "       [-1.8249932 ],\n",
       "       [-2.2082608 ],\n",
       "       [ 1.12544419],\n",
       "       [-1.32602217],\n",
       "       [ 0.27574715],\n",
       "       [-0.7547365 ],\n",
       "       [ 1.00612503],\n",
       "       [-1.47426719],\n",
       "       [-1.48873011],\n",
       "       [ 0.8000283 ],\n",
       "       [ 0.92657892],\n",
       "       [-2.26611251],\n",
       "       [-0.00627996],\n",
       "       [ 0.85788001],\n",
       "       [ 0.27574715],\n",
       "       [ 0.10942347],\n",
       "       [-0.61733868],\n",
       "       [ 1.12544419],\n",
       "       [-1.03314787],\n",
       "       [-0.451015  ],\n",
       "       [ 0.59031584],\n",
       "       [ 1.12544419],\n",
       "       [ 0.46738095],\n",
       "       [ 0.74940805],\n",
       "       [ 1.12544419],\n",
       "       [ 0.33359886],\n",
       "       [ 0.87234294],\n",
       "       [ 0.74217659],\n",
       "       [ 0.51076973],\n",
       "       [-1.32602217],\n",
       "       [ 0.76025525],\n",
       "       [ 0.98081491],\n",
       "       [ 0.5180012 ],\n",
       "       [-0.85959273],\n",
       "       [ 0.52884839],\n",
       "       [ 0.73132939],\n",
       "       [-0.26661267],\n",
       "       [ 0.37337191],\n",
       "       [-0.13283058],\n",
       "       [ 0.55054279],\n",
       "       [ 0.56500571],\n",
       "       [-1.27901765],\n",
       "       [ 0.90488453],\n",
       "       [ 1.04228235],\n",
       "       [ 0.66986195],\n",
       "       [-1.53935036],\n",
       "       [-0.56671843],\n",
       "       [ 0.69155634],\n",
       "       [ 0.91934746],\n",
       "       [ 0.35529325],\n",
       "       [ 0.27574715],\n",
       "       [-1.26817046],\n",
       "       [-0.8342826 ],\n",
       "       [ 0.96635198],\n",
       "       [-0.53779257],\n",
       "       [-1.11269398],\n",
       "       [ 0.00818297],\n",
       "       [ 0.70601927],\n",
       "       [ 0.55415852],\n",
       "       [-2.18656641],\n",
       "       [ 0.7891811 ],\n",
       "       [-1.85030332],\n",
       "       [ 1.06036101],\n",
       "       [ 1.07843967],\n",
       "       [-1.69844257],\n",
       "       [-1.48149865],\n",
       "       [ 0.81810696],\n",
       "       [ 0.28297861],\n",
       "       [ 0.709635  ],\n",
       "       [ 0.93019466],\n",
       "       [ 1.0820554 ],\n",
       "       [ 0.31913593],\n",
       "       [-1.29348058],\n",
       "       [-1.4308784 ],\n",
       "       [-1.04399507],\n",
       "       [-1.12354117],\n",
       "       [-0.25576547],\n",
       "       [ 0.52523266]])"
      ]
     },
     "execution_count": 113,
     "metadata": {},
     "output_type": "execute_result"
    }
   ],
   "source": [
    "# SimpleImputer class from sklearn.imput library is used here to fill the missing values with the mean of the feature values.\n",
    "\n",
    "#imputer = SimpleImputer(strategy='mean')\n",
    "\n",
    "#X_train = imputer.fit_transform(X_train)\n",
    "#X_test = imputer.transform(X_test)\n",
    "\n",
    "sc = StandardScaler()\n",
    "X_train = sc.fit_transform(X_train)\n",
    "X_test = sc.transform(X_test)\n",
    "X_train"
   ]
  },
  {
   "cell_type": "markdown",
   "id": "c709aa83",
   "metadata": {},
   "source": [
    "## Step 4: Linear Regression"
   ]
  },
  {
   "cell_type": "code",
   "execution_count": 123,
   "id": "85c790f5",
   "metadata": {},
   "outputs": [],
   "source": [
    "from sklearn.linear_model import LinearRegression"
   ]
  },
  {
   "cell_type": "code",
   "execution_count": 124,
   "id": "4d44f100",
   "metadata": {},
   "outputs": [],
   "source": [
    "# Creating a instance of class LinearRegression() that we got from sklearn.linear_model --> LinearRegression\n",
    "\n",
    "my_model = LinearRegression()"
   ]
  },
  {
   "cell_type": "code",
   "execution_count": 125,
   "id": "2d2df5e6",
   "metadata": {},
   "outputs": [
    {
     "data": {
      "text/plain": [
       "LinearRegression()"
      ]
     },
     "execution_count": 125,
     "metadata": {},
     "output_type": "execute_result"
    }
   ],
   "source": [
    "# Train the model based on our previously split dataset\n",
    "\n",
    "my_model.fit(X_train, y_train)"
   ]
  },
  {
   "cell_type": "code",
   "execution_count": 126,
   "id": "0f262790",
   "metadata": {},
   "outputs": [],
   "source": [
    "# Make predictions on the training data\n",
    "\n",
    "ypred = my_model.predict(X_train)"
   ]
  },
  {
   "cell_type": "code",
   "execution_count": 127,
   "id": "ad92be8d",
   "metadata": {},
   "outputs": [
    {
     "data": {
      "text/plain": [
       "array([19.64612586, 20.98566378, 20.6236265 , 22.95273297, 23.33890606,\n",
       "       25.66801253, 22.83205388, 19.33236022, 20.79257723, 26.06625353,\n",
       "       25.43872226, 21.42010851, 19.21168113, 23.80955452, 26.2955438 ,\n",
       "       19.4289035 , 28.82980473, 24.12332016, 19.92368777, 19.23581695,\n",
       "       21.96316442, 19.88748404, 26.93514299, 19.10306995, 18.95825504,\n",
       "       19.86334823, 23.13375161, 20.84084887, 28.72119354, 23.93023361,\n",
       "       18.87377968, 20.8891205 , 19.12720577, 24.47328952, 18.87377968,\n",
       "       21.68560251, 19.22374904, 18.87377968, 19.18754531, 19.93575568,\n",
       "       19.24788486, 19.85128032, 20.52708323, 29.37286064, 18.87377968,\n",
       "       24.5698328 , 18.87377968, 21.95109651, 29.74696582, 19.60992213,\n",
       "       22.54242406, 26.50069826, 23.36304188, 28.793601  , 19.09100204,\n",
       "       28.35915627, 19.06686622, 25.12495662, 20.14091014, 19.87541614,\n",
       "       20.50294741, 20.03229895, 25.30597525, 27.04375417, 24.08711643,\n",
       "       24.63017234, 21.56492342, 23.76128288, 27.35751981, 19.01859459,\n",
       "       26.10245726, 27.14029745, 19.91161986, 24.78705516, 27.94884736,\n",
       "       19.35649604, 25.01634543, 27.41785936, 26.05418562, 29.75903373,\n",
       "       22.44588079, 18.87377968, 21.13047869, 19.05479831, 20.32192877,\n",
       "       19.12720577, 20.50294741, 19.39269977, 24.94393798, 19.67026168,\n",
       "       20.17711386, 20.08057059, 21.19081823, 26.24727217, 28.34708836,\n",
       "       22.0717756 , 19.23581695, 18.87377968, 28.97461964, 20.2253855 ,\n",
       "       30.14520682, 19.48924304, 22.7234427 , 19.98402732, 19.75473704,\n",
       "       21.31149732, 24.1836597 , 23.43544934, 19.62199004, 19.00652668,\n",
       "       21.91489278, 28.11779809, 26.63344526, 25.41458644, 19.58578632,\n",
       "       18.87377968, 18.87377968, 19.50131095, 19.73060123, 18.87377968,\n",
       "       19.68232959, 20.24952132, 26.23520426, 23.73714706, 26.52483408,\n",
       "       23.89402988, 28.70912564, 18.87377968, 22.12004724, 18.87377968,\n",
       "       22.28899797, 19.5616505 , 25.19736407, 20.97359587, 24.99220962,\n",
       "       30.21761428, 20.98566378, 18.87377968, 24.60603652, 20.73223769,\n",
       "       18.87377968, 22.42174497, 19.81507659, 30.00039191, 20.33399668,\n",
       "       24.59396861, 19.65819377, 19.19961322, 26.45242662, 21.09427496,\n",
       "       22.96480088, 28.43156373, 19.06686622, 22.90446133, 18.87377968,\n",
       "       22.19245469, 21.49251596, 21.89075696, 25.51112971, 25.42665435,\n",
       "       24.40088207, 29.16770618, 22.53035615, 19.33236022, 27.09202581,\n",
       "       28.25054509, 21.19081823, 26.77826017, 19.4289035 , 26.97134672,\n",
       "       25.70421626, 19.45303932, 19.28408859, 19.01859459, 25.35424689,\n",
       "       19.11513786, 20.33399668, 21.25115778, 23.04927624, 25.88523489,\n",
       "       24.38881416, 19.59785422, 28.31088463, 25.98177817, 20.72016978,\n",
       "       26.52483408, 23.32683815, 19.28408859, 28.72119354, 30.00039191,\n",
       "       18.87377968, 27.05582208, 21.70973833, 25.14909244, 19.27202068,\n",
       "       27.55060636, 27.59887799, 19.9598915 , 19.53751468, 30.19347846,\n",
       "       22.65103524, 19.76680495, 21.70973833, 22.26486215, 24.69051189,\n",
       "       18.87377968, 26.07832144, 24.13538807, 20.65983023, 18.87377968,\n",
       "       21.07013914, 20.12884223, 18.87377968, 21.51665178, 19.71853332,\n",
       "       20.15297805, 20.92532423, 27.05582208, 20.0926385 , 19.35649604,\n",
       "       20.90118841, 25.4990618 , 20.86498469, 20.18918177, 23.5199247 ,\n",
       "       21.38390478, 23.07341206, 20.79257723, 20.74430559, 26.89893926,\n",
       "       19.60992213, 19.15134159, 20.39433623, 27.76782872, 24.52156116,\n",
       "       20.32192877, 19.5616505 , 21.44424433, 21.70973833, 26.86273554,\n",
       "       25.41458644, 19.40476768, 24.42501789, 26.34381544, 22.6027636 ,\n",
       "       20.27365714, 20.78050932, 29.92798446, 19.99609523, 28.80566891,\n",
       "       19.09100204, 19.03066249, 28.29881672, 27.57474218, 19.89955195,\n",
       "       21.68560251, 20.26158923, 19.52544677, 19.01859459, 21.56492342,\n",
       "       26.9472109 , 27.40579145, 26.11452517, 26.38001917, 23.48372097,\n",
       "       20.8770526 ])"
      ]
     },
     "execution_count": 127,
     "metadata": {},
     "output_type": "execute_result"
    }
   ],
   "source": [
    "ypred"
   ]
  },
  {
   "cell_type": "markdown",
   "id": "58e5d055",
   "metadata": {},
   "source": [
    "## Step 5: Evaluate the model's performance on the testing data using metrics such as mean squared error (MSE) or R-squared."
   ]
  },
  {
   "cell_type": "code",
   "execution_count": 131,
   "id": "b2f02ce4",
   "metadata": {},
   "outputs": [
    {
     "name": "stdout",
     "output_type": "stream",
     "text": [
      "0.7274964738709092\n"
     ]
    }
   ],
   "source": [
    "prediction_score = r2_score(Y_test, ypred)\n",
    "print(r2)"
   ]
  },
  {
   "cell_type": "code",
   "execution_count": null,
   "id": "622bd52d",
   "metadata": {},
   "outputs": [],
   "source": []
  }
 ],
 "metadata": {
  "kernelspec": {
   "display_name": "Python 3 (ipykernel)",
   "language": "python",
   "name": "python3"
  },
  "language_info": {
   "codemirror_mode": {
    "name": "ipython",
    "version": 3
   },
   "file_extension": ".py",
   "mimetype": "text/x-python",
   "name": "python",
   "nbconvert_exporter": "python",
   "pygments_lexer": "ipython3",
   "version": "3.9.12"
  }
 },
 "nbformat": 4,
 "nbformat_minor": 5
}
