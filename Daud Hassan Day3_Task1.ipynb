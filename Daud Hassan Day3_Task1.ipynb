{
 "cells": [
  {
   "cell_type": "markdown",
   "id": "634aea32",
   "metadata": {},
   "source": [
    "# Task 1: Appliances Power Consumption Scrapper."
   ]
  },
  {
   "cell_type": "code",
   "execution_count": 9,
   "id": "65b6462a",
   "metadata": {},
   "outputs": [],
   "source": [
    "import pandas as pd\n",
    "import requests\n",
    "from bs4 import BeautifulSoup"
   ]
  },
  {
   "cell_type": "code",
   "execution_count": 10,
   "id": "21b56629",
   "metadata": {},
   "outputs": [],
   "source": [
    "# Sending Get Request to the daft logic website\n",
    "\n",
    "source = requests.get(\"https://www.daftlogic.com/information-appliance-power-consumption.htm\")"
   ]
  },
  {
   "cell_type": "code",
   "execution_count": 11,
   "id": "5ce8d760",
   "metadata": {},
   "outputs": [],
   "source": [
    "soup = BeautifulSoup(source.text, 'html.parser')"
   ]
  },
  {
   "cell_type": "code",
   "execution_count": 12,
   "id": "8f279bf4",
   "metadata": {},
   "outputs": [
    {
     "name": "stdout",
     "output_type": "stream",
     "text": [
      "<!DOCTYPE html>\n",
      "\n",
      "<html lang=\"en\">\n",
      "<head>\n",
      "<meta charset=\"UTF-8\">\n",
      "<meta http-equiv=\"content-type\" cont\n"
     ]
    }
   ],
   "source": [
    "# Checking if we are getting data from the html\n",
    "\n",
    "print(source.text[0:100])"
   ]
  },
  {
   "cell_type": "markdown",
   "id": "8088ab52",
   "metadata": {},
   "source": [
    "## Scraping Table:"
   ]
  },
  {
   "cell_type": "code",
   "execution_count": 13,
   "id": "0cfbdba0",
   "metadata": {},
   "outputs": [],
   "source": [
    "Table_data = soup.find('table' , id_ = 'tblApp')"
   ]
  },
  {
   "cell_type": "code",
   "execution_count": 14,
   "id": "c5237e29",
   "metadata": {},
   "outputs": [
    {
     "name": "stdout",
     "output_type": "stream",
     "text": [
      "None\n"
     ]
    }
   ],
   "source": [
    "print(Table_data)"
   ]
  },
  {
   "cell_type": "markdown",
   "id": "bf07b15c",
   "metadata": {},
   "source": [
    "## Creating a DataFrame "
   ]
  },
  {
   "cell_type": "code",
   "execution_count": 15,
   "id": "816d33ef",
   "metadata": {},
   "outputs": [],
   "source": [
    "# using panda's read_html() method to read the HTML content of the website and parse any tables it finds into pandas DataFrames.\n",
    "\n",
    "df = pd.read_html(str(source.text))[0]"
   ]
  },
  {
   "cell_type": "code",
   "execution_count": 17,
   "id": "6b7898ab",
   "metadata": {},
   "outputs": [
    {
     "data": {
      "text/html": [
       "<div>\n",
       "<style scoped>\n",
       "    .dataframe tbody tr th:only-of-type {\n",
       "        vertical-align: middle;\n",
       "    }\n",
       "\n",
       "    .dataframe tbody tr th {\n",
       "        vertical-align: top;\n",
       "    }\n",
       "\n",
       "    .dataframe thead th {\n",
       "        text-align: right;\n",
       "    }\n",
       "</style>\n",
       "<table border=\"1\" class=\"dataframe\">\n",
       "  <thead>\n",
       "    <tr style=\"text-align: right;\">\n",
       "      <th></th>\n",
       "      <th>Appliance</th>\n",
       "      <th>Minimum</th>\n",
       "      <th>Maximum</th>\n",
       "      <th>Standby</th>\n",
       "      <th>Other Name(s)</th>\n",
       "      <th>References</th>\n",
       "      <th>Notes</th>\n",
       "    </tr>\n",
       "  </thead>\n",
       "  <tbody>\n",
       "    <tr>\n",
       "      <th>0</th>\n",
       "      <td>100W light bulb (Incandescent)</td>\n",
       "      <td>100W</td>\n",
       "      <td>100W</td>\n",
       "      <td>0W</td>\n",
       "      <td>NaN</td>\n",
       "      <td>[1]</td>\n",
       "      <td>NaN</td>\n",
       "    </tr>\n",
       "    <tr>\n",
       "      <th>1</th>\n",
       "      <td>22 Inch LED TV</td>\n",
       "      <td>17W</td>\n",
       "      <td>17W</td>\n",
       "      <td>0.5W</td>\n",
       "      <td>NaN</td>\n",
       "      <td>NaN</td>\n",
       "      <td>NaN</td>\n",
       "    </tr>\n",
       "    <tr>\n",
       "      <th>2</th>\n",
       "      <td>25\" colour TV</td>\n",
       "      <td>150W</td>\n",
       "      <td>150W</td>\n",
       "      <td>NaN</td>\n",
       "      <td>NaN</td>\n",
       "      <td>NaN</td>\n",
       "      <td>NaN</td>\n",
       "    </tr>\n",
       "    <tr>\n",
       "      <th>3</th>\n",
       "      <td>3\" belt sander</td>\n",
       "      <td>1000W</td>\n",
       "      <td>1000W</td>\n",
       "      <td>NaN</td>\n",
       "      <td>NaN</td>\n",
       "      <td>NaN</td>\n",
       "      <td>NaN</td>\n",
       "    </tr>\n",
       "    <tr>\n",
       "      <th>4</th>\n",
       "      <td>32 Inch LED TV</td>\n",
       "      <td>20W</td>\n",
       "      <td>60W</td>\n",
       "      <td>1W</td>\n",
       "      <td>NaN</td>\n",
       "      <td>NaN</td>\n",
       "      <td>NaN</td>\n",
       "    </tr>\n",
       "  </tbody>\n",
       "</table>\n",
       "</div>"
      ],
      "text/plain": [
       "                        Appliance Minimum Maximum Standby Other Name(s)  \\\n",
       "0  100W light bulb (Incandescent)    100W    100W      0W           NaN   \n",
       "1                  22 Inch LED TV     17W     17W    0.5W           NaN   \n",
       "2                   25\" colour TV    150W    150W     NaN           NaN   \n",
       "3                  3\" belt sander   1000W   1000W     NaN           NaN   \n",
       "4                  32 Inch LED TV     20W     60W      1W           NaN   \n",
       "\n",
       "  References Notes  \n",
       "0        [1]   NaN  \n",
       "1        NaN   NaN  \n",
       "2        NaN   NaN  \n",
       "3        NaN   NaN  \n",
       "4        NaN   NaN  "
      ]
     },
     "execution_count": 17,
     "metadata": {},
     "output_type": "execute_result"
    }
   ],
   "source": [
    "# checking columns\n",
    "\n",
    "df.head()"
   ]
  },
  {
   "cell_type": "code",
   "execution_count": 18,
   "id": "ea866469",
   "metadata": {},
   "outputs": [],
   "source": [
    "# Creating a csv file to store the table data\n",
    "\n",
    "df.to_csv('appliance_power_consumption.csv', index=False)"
   ]
  },
  {
   "cell_type": "code",
   "execution_count": 19,
   "id": "a6bae3d7",
   "metadata": {},
   "outputs": [
    {
     "name": "stdout",
     "output_type": "stream",
     "text": [
      "Appliance,Minimum,Maximum,Standby,Other Name(s),References,Notes\n",
      "100W light bulb (Incandescent),100W,100W,0W,,[1],\n",
      "22 Inch LED TV,17W,17W,0.5W,,,\n",
      "\"25\"\" colour TV\",150W,150W,,,,\n",
      "\"3\"\" belt sander\",1000W,1000W,,,,\n",
      "32 Inch LED TV,20W,60W,1W,,,\n",
      "42 Inch LED TV,58W,60W,0.3W,,[1],\n",
      "42 Inch Plasma TV,450W,600W,,Plasma TV,,\n",
      "46 Inch LED TV,60W,70W,1W,,[1],\n",
      "49 Inch LED TV,85W,85W,1W,,,\n",
      "55 Inch LED TV,116W,116W,0.5W,,[1],\n",
      "60W light bulb (Incandescent),60W,60W,0W,,[1],\n",
      "65 Inch LED TV,120W,130W,1W,,[1],\n",
      "82 Inch LED TV,228W,295W,0.5W,,[1],\n",
      "\"9\"\" disc sander\",1200W,1200W,,,,\n",
      "Air Cooler,65W,80W,,,,\n",
      "Air Fryer,1500W,1500W,,,[1],\n",
      "Air Purifier,25W,30W,,,[1],\n",
      "Amazon Echo,3W,3W,2W,,,\n",
      "Amazon Echo Dot,2W,3W,,,,\n",
      "Amazon Echo Show,2W,4W,0.1W,,,\n",
      "American-Style Fridge Freezer,40W,80W,,\"American Fridge Freezer,Double Door Refrigerator\",[1],\n",
      "Apple TV,3W,6W,0.3W,,[1],\n",
      "Aquarium Pump,20W,50W,,,[1],\n",
      "AV Receiver,450W,450W,,,[1],\n",
      "Bathroom Towel Heater,60W,150W,,\"Towel Rail,Heated Towel Rail\",,\n",
      "Ceiling Fan,60W,70W,0W,,[1],\n",
      "Chromebook,45W,45W,,Chrome Book,[1],\n",
      "Chromecast,2W,2W,,,,\n",
      "Clock radio,1W,2W,,,,\n",
      "Clothes Dryer,1000W,4000W,,\"Tumble Dryer,Dryer\",,\n",
      "Coffee Maker,800W,1400W,,,,\n",
      "Computer Monitor,25W,30W,,,[1],\n",
      "Cooker Hood,20W,30W,0W,,[1],\n",
      "Corded Drill,600W,850W,,Electric Drill,[1],\n",
      "Corded Electric Handheld Leaf Blower,2500W,2500W,,,[1],\n",
      "Cordless Drill Charger,70W,150W,,,,\n",
      "Cpap machine,30W,60W,,CPAP machine,,\n",
      "Curling Iron,25W,35W,0W,,[1],\n",
      "DAB Mains Radio,5W,9W,,DAB Radio,,\n",
      "Deep Freezer,19W,19W,,Chest Freezer,[1],168 Kwh/year\n",
      "Dehumidifier,240W,240W,,,[1],\n",
      "Desktop Computer,100W,450W,,,[1],\n",
      "Dishwasher,1200W,1500W,,,,\n",
      "Domestic Water Pump,200W,300W,0W,Shower Water Pump,[1],\n",
      "DVD Player,26W,60W,,,,\n",
      "Electric Blanket,200W,200W,,,,\n",
      "Electric Boiler,4000W,14000W,,,,\n",
      "Electric Doorbell Transformer,2W,2W,,,,\n",
      "Electric Heater Fan,2000W,3000W,,,[1],\n",
      "Electric Kettle,1200W,3000W,0W,Kettle,,\n",
      "Electric Mower,1500W,1500W,,,,\n",
      "Electric Pressure Cooker,1000W,1000W,,Pressure Cooker,[1],\n",
      "Electric Shaver,15W,20W,,,,\n",
      "Electric stove,2000W,2000W,,,[1],\n",
      "Electric Tankless Water Heater,6600W,8800W,,,[1],\n",
      "Electric Thermal Radiator,500W,500W,,Thermal Radiator,[1],\n",
      "Electric Toothbrush Charger,6W,6W,,,,\n",
      "Espresso Coffee Machine,1300W,1500W,,Espresso Machine,,\n",
      "EV Car Charger,2000W,7000W,,,,\n",
      "EV Home Charger,1600W,3400W,,,,\n",
      "Evaporative Air Conditioner,2600W,2600W,,Evaporative Cooler,[1],\n",
      "External Hard Drive,1W,3W,,,,\n",
      "Extractor Fan,12W,12W,,Bathroom Fan,[1],\n",
      "Fluorescent Lamp,28W,45W,,Fluorescent Tube Light,[1],\n",
      "Food Blender,300W,400W,,\"Mixer,Food Processor,Blender,Juice Blender,Juice Mixer\",[1],\n",
      "Food Dehydrator,800W,800W,,Tray Dehydrator,[1],\n",
      "Freezer,30W,50W,,,,\n",
      "Fridge,100W,220W,,,,\n",
      "Fridge / Freezer,150W,400W,,,,\n",
      "Fryer,1000W,1000W,,\"Deep Fat Fryer,Deep Fryer\",[1],\n",
      "Game Console,120W,200W,,,[1],\n",
      "Gaming PC,300W,600W,1W,Gaming Computer,,\n",
      "Garage Door Opener,300W,400W,,Electric Garage Door,,As the door only operates for a short time (10secs?) the kWH value is low\n",
      "Google Home Mini,15W,15W,2W,Google Nest Mini,[1],\n",
      "Guitar Amplifier,20W,30W,,,,\n",
      "Hair Blow Dryer,1800W,2500W,,\"Blow Dryer, Hair Dryer, Hair Drier\",,\n",
      "Hand Wash Oversink Water Heater,3000W,3000W,,,[1],\n",
      "Heated Bathroom Mirror,50W,100W,,,,\n",
      "Heated Hair Rollers,400W,400W,,Heated Rollers,[1],\n",
      "Home Air Conditioner,1000W,4000W,,\"AC,A/C,Air Con\",,\n",
      "Home Internet Router,5W,15W,,Router,,\n",
      "Home Phone,3W,5W,2W,DECT Telephone,,\n",
      "Home Sound System,95W,95W,1W,,[1],\n",
      "Hot Water Dispenser,1200W,1300W,,\"Instant Hot Water Tap,Water Boiler\",[1],\n",
      "Hot Water Immersion Heater,3000W,3000W,,,,\n",
      "Humidifier,35W,40W,,,[1],\n",
      "iMac,60W,240W,1W,,,\n",
      "Induction Hob (per hob),1400W,1800W,,\"Induction Stove,Induction Cooking Stove,Electric Cooker,Induction Cooktop\",,\n",
      "Inkjet Printer,20W,30W,,Printer,,\n",
      "Inverter Air conditioner,1300W,1800W,,,,\n",
      "Iron,1000W,1000W,,Electric Iron,,\n",
      "Jacuzzi,3000W,7500W,1500W,Hot Tub,,\n",
      "Kitchen Extractor Fan,200W,200W,,,[1],\n",
      "Laptop Computer,50W,100W,,Laptop,,\n",
      "Laser Printer,600W,800W,,,,\n",
      "Lawnmower,1000W,1400W,,,,\n",
      "LED Christmas Lights,5W,5W,,Tree Lights,,\n",
      "LED Light Bulb,7W,10W,0W,Energy Saver Bulb,[1][2],\n",
      "LG Soundbar,23W,30W,0.5W,Soundbar,,\n",
      "Mi Box,5W,7W,3W,Mi Box Android,,\n",
      "Microwave,600W,1700W,3W,Microwave Oven,[1][2],\n",
      "Night Light,1W,1W,0W,,,\n",
      "Nintendo Switch AC Adapter,7W,40W,,,,\n",
      "Outdoor Hot Tub,60W,500W,,\"Canadian Spa,Outdoor spa\",[1],\n",
      "Oven,2150W,2150W,,Electric Oven,,\n",
      "Paper Shredder,200W,220W,,,,\n",
      "Pedestal Fan,50W,60W,,\"Tall Standing Fan,Floor Fan,Stand Fan\",,\n",
      "Percolator,800W,1100W,,Coffee Maker,[1],\n",
      "Philips Hue Smart Bulb,8W,9W,0.4W,Hue lights,,\n",
      "Phone Charger,4W,7W,,\"Smart Phone Charger,Cell Phone Charger,Mobile Phone Charger\",,\n",
      "Playstation 4,85W,90W,,PS4,,\n",
      "Playstation 5,160W,200W,,PS5,,\n",
      "Portable Air Conditioner,1000W,1200W,,Mobile Air Conditioner,,\n",
      "Power Shower,7500W,10500W,0W,Electric Shower,[1],\n",
      "Pressure Cooker,700W,700W,,,[1],\n",
      "Pressure Washer,1500W,1500W,,Electric Pressure Washer,,\n",
      "Projector,220W,270W,1W,,,\n",
      "Refrigerator,100W,200W,,,,\n",
      "Rice Cooker,200W,800W,,,[1],\n",
      "Ring Spotlight Cam Wired,25W,4W,2W,,,\n",
      "Sandwich Maker,700W,1000W,,\"Sandwich Press, Sandwich Toaster\",,\n",
      "Scanner,10W,18W,,,,\n",
      "Set Top Box,27W,30W,,\"Cable Box,Humax Box\",,\n",
      "Sewing Machine,70W,80W,,,[1],\n",
      "Singer Sewing Machine,100W,100W,,,,\n",
      "Sky Q 2TB Box,40W,40W,,Sky Box,[1],\n",
      "Slow Cooker,160W,180W,,,[1],\n",
      "Smoke Detector,0W,1W,,Mains Connected Smoke Detector,,\n",
      "Soldering Iron,30W,60W,,,,\n",
      "Space Heater,2000W,5000W,,,[1],\n",
      "Steam Iron,2200W,2500W,,,[1],\n",
      "Steriliser,650W,650W,,Sterilizer,[1],\n",
      "Straightening Iron,75W,300W,,Hair Straighteners,,\n",
      "Strimmer,300W,500W,,,,\n",
      "Submersible Water Pump,200W,400W,,\"Pool Pump,Sump Pump,Well Pump\",[1],\n",
      "Table Fan,10W,25W,,Desk Fan,,\n",
      "Table Top Fridge,10W,15W,,Mini Fridge,,\n",
      "Tablet Charger,10W,15W,,,,\n",
      "Tablet Computer,5W,10W,,,[1],\n",
      "Toaster,800W,1800W,0W,,[1],\n",
      "Tower Fan,60W,60W,,,[1],\n",
      "Treadmill,280W,900W,,,,\n",
      "Tube Light (1500mm),22W,22W,,,,\n",
      "\"TV (19\"\" colour)\",40W,100W,1W,,[1],\n",
      "Vacuum Cleaner,450W,900W,0W,,[1][2],\n",
      "Wall Fan,45W,60W,0W,,,\n",
      "Washing Machine,500W,500W,1W,Clothes Washer,,\"In the EU, power consumption of Washing Machines is typically given in the form of Annual Power Consumption. This is calculated based on 220 standard washing cycles, made up as follows: 60Â°C full load (3x), 60Â°C half load (2x), 40Â°C half load (2x) for 220 washing cycles.\"\n",
      "Water Dispenser,100W,100W,,,[1],\n",
      "Water Feature,35W,35W,,,,\n",
      "Water Filter and Cooler,70W,100W,,Water Cooler,[1],\n",
      "WiFi Booster,1W,2W,,\"WiFi Repeater,WiFi Extender,Range Extender\",,\n",
      "WiFi Router,4W,10W,4W,Router,,\n",
      "Window Air Conditioner,500W,1500W,,Window AC,,\n",
      "Wine cooler (18 bottles),83W,83W,0W,,[1],\n",
      "Xbox One,50W,110W,14W,,,\n",
      "\n"
     ]
    }
   ],
   "source": [
    "# verifying that the file was created and contains the data\n",
    "\n",
    "with open('appliance_power_consumption.csv', 'r') as csvfile:\n",
    "    print(csvfile.read())"
   ]
  },
  {
   "cell_type": "code",
   "execution_count": null,
   "id": "c004ecc4",
   "metadata": {},
   "outputs": [],
   "source": []
  }
 ],
 "metadata": {
  "kernelspec": {
   "display_name": "Python 3 (ipykernel)",
   "language": "python",
   "name": "python3"
  },
  "language_info": {
   "codemirror_mode": {
    "name": "ipython",
    "version": 3
   },
   "file_extension": ".py",
   "mimetype": "text/x-python",
   "name": "python",
   "nbconvert_exporter": "python",
   "pygments_lexer": "ipython3",
   "version": "3.9.12"
  }
 },
 "nbformat": 4,
 "nbformat_minor": 5
}
